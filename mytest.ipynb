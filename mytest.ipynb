{
 "cells": [
  {
   "cell_type": "markdown",
   "metadata": {},
   "source": [
    "\\section{Transverse field Ising model(TFIM)}\n",
    "\n",
    "Model Hamiltonian:\n",
    "\\begin{equation}\n",
    "    H = \\sum_{<ij>} -J Z_i Z_j -\\sum_i \\Gamma X_i\n",
    "\\end{equation}\n",
    "where in $X$ and $Z$ are Pauli matirces.\n"
   ]
  },
  {
   "cell_type": "markdown",
   "metadata": {},
   "source": [
    "1. Normalize of a vector (inner product)"
   ]
  },
  {
   "cell_type": "code",
   "execution_count": 1,
   "metadata": {},
   "outputs": [],
   "source": [
    "# packages\n",
    "using LinearAlgebra\n",
    "using Random; Random.seed!()\n",
    "using BenchmarkTools\n",
    "using Optim\n",
    "using Zygote"
   ]
  },
  {
   "cell_type": "code",
   "execution_count": 2,
   "metadata": {},
   "outputs": [
    {
     "data": {
      "text/plain": [
       "symmetrize (generic function with 1 method)"
      ]
     },
     "execution_count": 2,
     "metadata": {},
     "output_type": "execute_result"
    }
   ],
   "source": [
    "include(\"setup_struct.jl\")\n",
    "include(\"toolfunctions.jl\")"
   ]
  },
  {
   "cell_type": "code",
   "execution_count": 3,
   "metadata": {
    "scrolled": true
   },
   "outputs": [
    {
     "data": {
      "text/plain": [
       "difference (generic function with 1 method)"
      ]
     },
     "execution_count": 3,
     "metadata": {},
     "output_type": "execute_result"
    }
   ],
   "source": [
    "# Products\n",
    "function myprod(O::cMPO, S::cMPS)\n",
    "    Oi = Matrix(1.0I,size(O.Q))\n",
    "    Si = Matrix(1.0I,size(S.Q))\n",
    "    Q = kron(Oi , S.Q) + kron(O.Q , Si) + kron(O.L , S.R)\n",
    "    R = kron(O.R , Si) + kron(O.P , S.R)\n",
    "    return cMPS(Q, R)\n",
    "end\n",
    "\n",
    "function myinnerprod(sl::cMPS, sr::cMPS, β::Real)\n",
    "    li = Matrix(1.0I,size(sl.Q))    \n",
    "    ri = Matrix(1.0I,size(sr.Q))    \n",
    "    K = kron(li , sr.Q) + kron(sl.Q , ri) + kron(sl.R , sr.R)\n",
    "    vals = eigvals(K)\n",
    "    res = 0.\n",
    "    for i=1:length(vals)\n",
    "        res += exp(-β*vals[i])\n",
    "    end\n",
    "    return real(res)\n",
    "end\n",
    "\n",
    "# Physical\n",
    "function F(ψ::cMPS, W::cMPO, β::Real)\n",
    "    Hψ = myprod(W,ψ)\n",
    "    res = log(myinnerprod(ψ, Hψ ,β))- log(myinnerprod(ψ,ψ,β))\n",
    "    return -1/β * res\n",
    "end \n",
    "\n",
    "function difference(ψ1::cMPS, ψ2::cMPS; β=1)\n",
    "    res = myinnerprod(ψ1,ψ1,β) + myinnerprod(ψ2,ψ2,β)\n",
    "    res -= myinnerprod(ψ2,ψ1,β) + myinnerprod(ψ1,ψ2,β)\n",
    "    return res\n",
    "end"
   ]
  },
  {
   "cell_type": "code",
   "execution_count": 4,
   "metadata": {},
   "outputs": [
    {
     "data": {
      "text/plain": [
       "OptimDiff! (generic function with 1 method)"
      ]
     },
     "execution_count": 4,
     "metadata": {},
     "output_type": "execute_result"
    }
   ],
   "source": [
    "\"\"\"\n",
    "optimize difference\n",
    "\"\"\"\n",
    "function OptimDiff(x::Array{Float64,3})\n",
    "    ψ = cMPS(x[:,:,1], x[:,:,2])\n",
    "    return difference(ψ,Hψ)\n",
    "end\n",
    "\n",
    "function OptimDiff!(gx::Array{Float64,3}, x::Array{Float64,3})\n",
    "    ψ = cMPS(x[:,:,1], x[:,:,2])\n",
    "    grad = gradient(ψ -> difference(ψ,Hψ), ψ)[1]\n",
    "    (r,c) = size(grad.Q)\n",
    "    for i = 1:r, j = 1:c\n",
    "        gx[i,j,1] = grad.Q[i,j]\n",
    "        gx[i,j,2] = grad.R[i,j]\n",
    "    end\n",
    "end"
   ]
  },
  {
   "cell_type": "code",
   "execution_count": 5,
   "metadata": {},
   "outputs": [
    {
     "data": {
      "text/plain": [
       "OptimF! (generic function with 1 method)"
      ]
     },
     "execution_count": 5,
     "metadata": {},
     "output_type": "execute_result"
    }
   ],
   "source": [
    "\"\"\"\n",
    "optimize free energy\n",
    "\"\"\"\n",
    "function OptimF(x::Array{Float64,3})\n",
    "    ψ = cMPS(x[:,:,1], x[:,:,2])\n",
    "    return F(ψ,W,β)\n",
    "end\n",
    "\n",
    "function OptimF!(gx::Array{Float64,3}, x::Array{Float64,3})\n",
    "    ψ = cMPS(x[:,:,1], x[:,:,2])\n",
    "    grad = gradient(ψ -> F(ψ, W, β), ψ)[1]\n",
    "    (r,c) = size(grad.Q)\n",
    "    for i = 1:r, j = 1:c\n",
    "        gx[i,j,1] = grad.Q[i,j]\n",
    "        gx[i,j,2] = grad.R[i,j]\n",
    "    end\n",
    "end"
   ]
  },
  {
   "cell_type": "code",
   "execution_count": 8,
   "metadata": {},
   "outputs": [
    {
     "data": {
      "text/plain": [
       "2×2×2 Array{Float64,3}:\n",
       "[:, :, 1] =\n",
       " 0.104172  0.952396\n",
       " 0.952396  0.424975\n",
       "\n",
       "[:, :, 2] =\n",
       " 0.657828  0.460432\n",
       " 0.460432  0.988196"
      ]
     },
     "execution_count": 8,
     "metadata": {},
     "output_type": "execute_result"
    }
   ],
   "source": [
    "\"\"\"Test\"\"\"\n",
    "J = 1.0; Γ = 1.0\n",
    "T = 1.\n",
    "β = 1 / T\n",
    "X = [0. 1.; 1. 0.]\n",
    "Z = [1. 0.; 0. -1.]\n",
    "W = cMPO(Γ*X, √J*Z, √J*Z, zeros(2,2))\n",
    "fac = 1.\n",
    "Q = fac * rand(2,2) |> symmetrize\n",
    "R = fac * rand(2,2) |> symmetrize\n",
    "ψ = cMPS(Q,R)\n",
    "\n",
    "Hψ = myprod(W, ψ)\n",
    "x = toarray(ψ)"
   ]
  },
  {
   "cell_type": "code",
   "execution_count": 9,
   "metadata": {},
   "outputs": [
    {
     "name": "stdout",
     "output_type": "stream",
     "text": [
      "Iter     Function value   Gradient norm \n",
      "     0    -1.724698e+00     1.091674e+00\n",
      " * time: 0.027743816375732422\n",
      "     1    -9.104095e+02     1.204247e+00\n",
      " * time: 0.8723340034484863\n",
      "     2    -9.104095e+02     1.204247e+00\n",
      " * time: 0.8997688293457031\n",
      "     3    -9.104589e+02     2.527224e+02\n",
      " * time: 0.9074459075927734\n",
      "     4    -9.121558e+02     1.204321e+00\n",
      " * time: 0.9575679302215576\n",
      "     5    -9.121558e+02     1.204321e+00\n",
      " * time: 0.9763607978820801\n",
      "     6    -9.121558e+02     1.204321e+00\n",
      " * time: 1.0006158351898193\n",
      "     7    -9.121558e+02     1.204321e+00\n",
      " * time: 1.0322468280792236\n"
     ]
    },
    {
     "data": {
      "text/plain": [
       " * Status: success\n",
       "\n",
       " * Candidate solution\n",
       "    Final objective value:     -9.121558e+02\n",
       "\n",
       " * Found with\n",
       "    Algorithm:     L-BFGS\n",
       "\n",
       " * Convergence measures\n",
       "    |x - x'|               = 1.42e-14 ≰ 0.0e+00\n",
       "    |x - x'|/|x'|          = 2.17e-16 ≰ 0.0e+00\n",
       "    |f(x) - f(x')|         = 0.00e+00 ≤ 0.0e+00\n",
       "    |f(x) - f(x')|/|f(x')| = 0.00e+00 ≤ 0.0e+00\n",
       "    |g(x)|                 = 1.20e+00 ≰ 1.0e-08\n",
       "\n",
       " * Work counters\n",
       "    Seconds run:   1  (vs limit Inf)\n",
       "    Iterations:    7\n",
       "    f(x) calls:    466\n",
       "    ∇f(x) calls:   466\n"
      ]
     },
     "execution_count": 9,
     "metadata": {},
     "output_type": "execute_result"
    }
   ],
   "source": [
    "op = optimize(OptimF, x, LBFGS(),Optim.Options(show_trace=true))"
   ]
  },
  {
   "cell_type": "code",
   "execution_count": 10,
   "metadata": {},
   "outputs": [
    {
     "name": "stdout",
     "output_type": "stream",
     "text": [
      "Iter     Function value   Gradient norm \n",
      "     0    -1.724698e+00     1.328573e+00\n",
      " * time: 0.0001010894775390625\n"
     ]
    },
    {
     "ename": "LoadError",
     "evalue": "DomainError with -0.0478083308763824:\nlog will only return a complex result if called with a complex argument. Try log(Complex(x)).",
     "output_type": "error",
     "traceback": [
      "DomainError with -0.0478083308763824:\nlog will only return a complex result if called with a complex argument. Try log(Complex(x)).",
      "",
      "Stacktrace:",
      " [1] throw_complex_domainerror(::Symbol, ::Float64) at ./math.jl:33",
      " [2] log(::Float64) at ./special/log.jl:285",
      " [3] rrule at /Users/liangshuang/.julia/packages/ChainRulesCore/7d1hl/src/rule_definition_tools.jl:194 [inlined]",
      " [4] chain_rrule at /Users/liangshuang/.julia/packages/Zygote/KpME9/src/compiler/chainrules.jl:89 [inlined]",
      " [5] macro expansion at /Users/liangshuang/.julia/packages/Zygote/KpME9/src/compiler/interface2.jl:0 [inlined]",
      " [6] _pullback(::Zygote.Context, ::typeof(log), ::Float64) at /Users/liangshuang/.julia/packages/Zygote/KpME9/src/compiler/interface2.jl:9",
      " [7] F at ./In[3]:25 [inlined]",
      " [8] _pullback(::Zygote.Context, ::typeof(F), ::cMPS{Array{Float64,2}}, ::cMPO{Array{Float64,2}}, ::Float64) at /Users/liangshuang/.julia/packages/Zygote/KpME9/src/compiler/interface2.jl:0",
      " [9] #4 at ./In[5]:11 [inlined]",
      " [10] _pullback(::Zygote.Context, ::var\"#4#5\", ::cMPS{Array{Float64,2}}) at /Users/liangshuang/.julia/packages/Zygote/KpME9/src/compiler/interface2.jl:0",
      " [11] _pullback(::Function, ::cMPS{Array{Float64,2}}) at /Users/liangshuang/.julia/packages/Zygote/KpME9/src/compiler/interface.jl:33",
      " [12] pullback(::Function, ::cMPS{Array{Float64,2}}) at /Users/liangshuang/.julia/packages/Zygote/KpME9/src/compiler/interface.jl:39",
      " [13] gradient(::Function, ::cMPS{Array{Float64,2}}) at /Users/liangshuang/.julia/packages/Zygote/KpME9/src/compiler/interface.jl:48",
      " [14] OptimF!(::Array{Float64,3}, ::Array{Float64,3}) at ./In[5]:11",
      " [15] (::NLSolversBase.var\"#fg!#8\"{typeof(OptimF),typeof(OptimF!)})(::Array{Float64,3}, ::Array{Float64,3}) at /Users/liangshuang/.julia/packages/NLSolversBase/QPnui/src/objective_types/abstract.jl:13",
      " [16] value_gradient!!(::OnceDifferentiable{Float64,Array{Float64,3},Array{Float64,3}}, ::Array{Float64,3}) at /Users/liangshuang/.julia/packages/NLSolversBase/QPnui/src/interface.jl:82",
      " [17] value_gradient!(::OnceDifferentiable{Float64,Array{Float64,3},Array{Float64,3}}, ::Array{Float64,3}) at /Users/liangshuang/.julia/packages/NLSolversBase/QPnui/src/interface.jl:69",
      " [18] value_gradient!(::Optim.ManifoldObjective{OnceDifferentiable{Float64,Array{Float64,3},Array{Float64,3}}}, ::Array{Float64,3}) at /Users/liangshuang/.julia/packages/Optim/Yd5Zq/src/Manifolds.jl:50",
      " [19] (::LineSearches.var\"#ϕdϕ#6\"{Optim.ManifoldObjective{OnceDifferentiable{Float64,Array{Float64,3},Array{Float64,3}}},Array{Float64,3},Array{Float64,3},Array{Float64,3}})(::Float64) at /Users/liangshuang/.julia/packages/LineSearches/Ki4c5/src/LineSearches.jl:84",
      " [20] (::LineSearches.HagerZhang{Float64,Base.RefValue{Bool}})(::Function, ::LineSearches.var\"#ϕdϕ#6\"{Optim.ManifoldObjective{OnceDifferentiable{Float64,Array{Float64,3},Array{Float64,3}}},Array{Float64,3},Array{Float64,3},Array{Float64,3}}, ::Float64, ::Float64, ::Float64) at /Users/liangshuang/.julia/packages/LineSearches/Ki4c5/src/hagerzhang.jl:139",
      " [21] HagerZhang at /Users/liangshuang/.julia/packages/LineSearches/Ki4c5/src/hagerzhang.jl:101 [inlined]",
      " [22] perform_linesearch!(::Optim.LBFGSState{Array{Float64,3},Array{Array{Float64,3},1},Array{Array{Float64,3},1},Float64,Array{Float64,3}}, ::LBFGS{Nothing,LineSearches.InitialStatic{Float64},LineSearches.HagerZhang{Float64,Base.RefValue{Bool}},Optim.var\"#17#19\"}, ::Optim.ManifoldObjective{OnceDifferentiable{Float64,Array{Float64,3},Array{Float64,3}}}) at /Users/liangshuang/.julia/packages/Optim/Yd5Zq/src/utilities/perform_linesearch.jl:59",
      " [23] update_state!(::OnceDifferentiable{Float64,Array{Float64,3},Array{Float64,3}}, ::Optim.LBFGSState{Array{Float64,3},Array{Array{Float64,3},1},Array{Array{Float64,3},1},Float64,Array{Float64,3}}, ::LBFGS{Nothing,LineSearches.InitialStatic{Float64},LineSearches.HagerZhang{Float64,Base.RefValue{Bool}},Optim.var\"#17#19\"}) at /Users/liangshuang/.julia/packages/Optim/Yd5Zq/src/multivariate/solvers/first_order/l_bfgs.jl:205",
      " [24] optimize(::OnceDifferentiable{Float64,Array{Float64,3},Array{Float64,3}}, ::Array{Float64,3}, ::LBFGS{Nothing,LineSearches.InitialStatic{Float64},LineSearches.HagerZhang{Float64,Base.RefValue{Bool}},Optim.var\"#17#19\"}, ::Optim.Options{Float64,Nothing}, ::Optim.LBFGSState{Array{Float64,3},Array{Array{Float64,3},1},Array{Array{Float64,3},1},Float64,Array{Float64,3}}) at /Users/liangshuang/.julia/packages/Optim/Yd5Zq/src/multivariate/optimize/optimize.jl:56",
      " [25] optimize(::OnceDifferentiable{Float64,Array{Float64,3},Array{Float64,3}}, ::Array{Float64,3}, ::LBFGS{Nothing,LineSearches.InitialStatic{Float64},LineSearches.HagerZhang{Float64,Base.RefValue{Bool}},Optim.var\"#17#19\"}, ::Optim.Options{Float64,Nothing}) at /Users/liangshuang/.julia/packages/Optim/Yd5Zq/src/multivariate/optimize/optimize.jl:33",
      " [26] #optimize#89 at /Users/liangshuang/.julia/packages/Optim/Yd5Zq/src/multivariate/optimize/interface.jl:155 [inlined]",
      " [27] optimize(::Function, ::Function, ::Array{Float64,3}, ::LBFGS{Nothing,LineSearches.InitialStatic{Float64},LineSearches.HagerZhang{Float64,Base.RefValue{Bool}},Optim.var\"#17#19\"}, ::Optim.Options{Float64,Nothing}) at /Users/liangshuang/.julia/packages/Optim/Yd5Zq/src/multivariate/optimize/interface.jl:153",
      " [28] top-level scope at In[10]:1",
      " [29] include_string(::Function, ::Module, ::String, ::String) at ./loading.jl:1091"
     ]
    }
   ],
   "source": [
    "op = optimize(OptimF, OptimF!, x, LBFGS(),Optim.Options(show_trace=true))"
   ]
  },
  {
   "cell_type": "code",
   "execution_count": 11,
   "metadata": {},
   "outputs": [
    {
     "data": {
      "text/plain": [
       "2×2×2 Array{Float64,3}:\n",
       "[:, :, 1] =\n",
       " 0.104172  0.952396\n",
       " 0.952396  0.424975\n",
       "\n",
       "[:, :, 2] =\n",
       " 0.657828  0.460432\n",
       " 0.460432  0.988196"
      ]
     },
     "execution_count": 11,
     "metadata": {},
     "output_type": "execute_result"
    }
   ],
   "source": [
    "fac = 1.\n",
    "Q1 = fac * rand(2,2) |> symmetrize\n",
    "R1 = fac * rand(2,2) |> symmetrize\n",
    "ψ1 = cMPS(Q,R)\n",
    "x1 = toarray(ψ)"
   ]
  },
  {
   "cell_type": "code",
   "execution_count": 12,
   "metadata": {},
   "outputs": [
    {
     "name": "stdout",
     "output_type": "stream",
     "text": [
      "Iter     Function value   Gradient norm \n",
      "     0     3.328945e+01     2.051816e+01\n",
      " * time: 0.0001220703125\n",
      "     1   -3.282146e+306    1.641216e+306\n",
      " * time: 0.12431192398071289\n"
     ]
    },
    {
     "data": {
      "text/plain": [
       " * Status: failure (line search failed)\n",
       "\n",
       " * Candidate solution\n",
       "    Final objective value:     -3.282146e+306\n",
       "\n",
       " * Found with\n",
       "    Algorithm:     L-BFGS\n",
       "\n",
       " * Convergence measures\n",
       "    |x - x'|               = NaN ≰ 0.0e+00\n",
       "    |x - x'|/|x'|          = NaN ≰ 0.0e+00\n",
       "    |f(x) - f(x')|         = 0.00e+00 ≤ 0.0e+00\n",
       "    |f(x) - f(x')|/|f(x')| = 0.00e+00 ≤ 0.0e+00\n",
       "    |g(x)|                 = 1.64e+306 ≰ 1.0e-08\n",
       "\n",
       " * Work counters\n",
       "    Seconds run:   0  (vs limit Inf)\n",
       "    Iterations:    2\n",
       "    f(x) calls:    82\n",
       "    ∇f(x) calls:   82\n"
      ]
     },
     "execution_count": 12,
     "metadata": {},
     "output_type": "execute_result"
    }
   ],
   "source": [
    "op1 = optimize(OptimDiff, x1, LBFGS(),Optim.Options(show_trace=true))"
   ]
  },
  {
   "cell_type": "code",
   "execution_count": 13,
   "metadata": {},
   "outputs": [
    {
     "name": "stdout",
     "output_type": "stream",
     "text": [
      "Iter     Function value   Gradient norm \n",
      "     0     3.328945e+01     2.051816e+01\n",
      " * time: 0.00011706352233886719\n",
      "     1     3.328945e+01     2.051816e+01\n",
      " * time: 2.683943033218384\n",
      "     2   -1.797693e+308    1.500154e+308\n",
      " * time: 2.8569419384002686\n"
     ]
    },
    {
     "data": {
      "text/plain": [
       " * Status: failure (line search failed)\n",
       "\n",
       " * Candidate solution\n",
       "    Final objective value:     -1.797693e+308\n",
       "\n",
       " * Found with\n",
       "    Algorithm:     L-BFGS\n",
       "\n",
       " * Convergence measures\n",
       "    |x - x'|               = NaN ≰ 0.0e+00\n",
       "    |x - x'|/|x'|          = NaN ≰ 0.0e+00\n",
       "    |f(x) - f(x')|         = 0.00e+00 ≤ 0.0e+00\n",
       "    |f(x) - f(x')|/|f(x')| = 0.00e+00 ≤ 0.0e+00\n",
       "    |g(x)|                 = 1.50e+308 ≰ 1.0e-08\n",
       "\n",
       " * Work counters\n",
       "    Seconds run:   3  (vs limit Inf)\n",
       "    Iterations:    3\n",
       "    f(x) calls:    106\n",
       "    ∇f(x) calls:   106\n"
      ]
     },
     "execution_count": 13,
     "metadata": {},
     "output_type": "execute_result"
    }
   ],
   "source": [
    "op1 = optimize(OptimDiff, OptimDiff!, x1, LBFGS(),Optim.Options(show_trace=true))"
   ]
  },
  {
   "cell_type": "code",
   "execution_count": null,
   "metadata": {},
   "outputs": [],
   "source": []
  }
 ],
 "metadata": {
  "kernelspec": {
   "display_name": "Julia 1.5.3",
   "language": "julia",
   "name": "julia-1.5"
  },
  "language_info": {
   "file_extension": ".jl",
   "mimetype": "application/julia",
   "name": "julia",
   "version": "1.5.3"
  },
  "latex_envs": {
   "LaTeX_envs_menu_present": true,
   "autoclose": false,
   "autocomplete": false,
   "bibliofile": "biblio.bib",
   "cite_by": "apalike",
   "current_citInitial": 1,
   "eqLabelWithNumbers": true,
   "eqNumInitial": 1,
   "hotkeys": {
    "equation": "Ctrl-E",
    "itemize": "Ctrl-I"
   },
   "labels_anchors": false,
   "latex_user_defs": false,
   "report_style_numbering": true,
   "user_envs_cfg": false
  },
  "toc": {
   "base_numbering": 1,
   "nav_menu": {},
   "number_sections": true,
   "sideBar": true,
   "skip_h1_title": false,
   "title_cell": "Table of Contents",
   "title_sidebar": "Contents",
   "toc_cell": false,
   "toc_position": {},
   "toc_section_display": true,
   "toc_window_display": false
  }
 },
 "nbformat": 4,
 "nbformat_minor": 4
}
