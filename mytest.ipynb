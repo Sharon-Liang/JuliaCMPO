{
 "cells": [
  {
   "cell_type": "code",
   "execution_count": 1,
   "metadata": {},
   "outputs": [],
   "source": [
    "# packages\n",
    "using LinearAlgebra\n",
    "using Random\n",
    "Random.seed!();\n",
    "using BenchmarkTools\n",
    "using Optim\n",
    "using Zygote"
   ]
  },
  {
   "cell_type": "code",
   "execution_count": null,
   "metadata": {},
   "outputs": [],
   "source": [
    "# Tool fuctions\n",
    "function symmetrize(A::AbstractArray)\n",
    "    return (A + A')/2\n",
    "end"
   ]
  },
  {
   "cell_type": "code",
   "execution_count": 2,
   "metadata": {},
   "outputs": [],
   "source": [
    "struct cMPS{T<:AbstractArray}\n",
    "    Q::T\n",
    "    R::T\n",
    "end\n",
    "\n",
    "struct cMPO{T<:AbstractArray}\n",
    "    Q::T  # onsite\n",
    "    R::T  # interaction\n",
    "    L::T  # interaction\n",
    "    P::T  # long-range\n",
    "end"
   ]
  },
  {
   "cell_type": "code",
   "execution_count": 3,
   "metadata": {
    "scrolled": true
   },
   "outputs": [
    {
     "data": {
      "text/plain": [
       "difference (generic function with 1 method)"
      ]
     },
     "execution_count": 3,
     "metadata": {},
     "output_type": "execute_result"
    }
   ],
   "source": [
    "# Products\n",
    "function myprod(O::cMPO, S::cMPS)\n",
    "    Oi = Matrix(1.0I,size(O.Q))\n",
    "    Si = Matrix(1.0I,size(S.Q))\n",
    "    Q = kron(Oi , S.Q) + kron(O.Q , Si) + kron(O.L , S.R)\n",
    "    R = kron(O.R , Si) + kron(O.P , S.R)\n",
    "    return cMPS(Q, R)\n",
    "end\n",
    "\n",
    "function myinnerprod(sl::cMPS, sr::cMPS, β::Real)\n",
    "    li = Matrix(1.0I,size(sl.Q))    \n",
    "    ri = Matrix(1.0I,size(sr.Q))    \n",
    "    K = kron(li , sr.Q) + kron(sl.Q , ri) + kron(sl.R, sr.R)\n",
    "    vals = eigvals(K)\n",
    "    res = 0.\n",
    "    for i=1:length(vals)\n",
    "        res += exp(-β*vals[i])\n",
    "    end\n",
    "    return res\n",
    "end\n",
    "\n",
    "# Physical\n",
    "function F(ψ::cMPS, W::cMPO, β::Real)\n",
    "    Hψ = myprod(W,ψ)\n",
    "    res = log(myinnerprod(ψ, Hψ ,β))- log(myinnerprod(ψ,ψ,β))\n",
    "    return -1/β * res\n",
    "end \n",
    "\n",
    "function difference(ψ1::cMPS, ψ2::cMPS; β=1)\n",
    "    res = myinnerprod(ψ1,ψ1,β) + myinnerprod(ψ2,ψ2,β)\n",
    "    res -= myinnerprod(ψ2,ψ1,β) + myinnerprod(ψ1,ψ2,β)\n",
    "    return res\n",
    "end"
   ]
  },
  {
   "cell_type": "markdown",
   "metadata": {},
   "source": [
    "\\section{Transverse field Ising model(TFIM)}\n",
    "\n",
    "Model Hamiltonian:\n",
    "\\begin{equation}\n",
    "    H = \\sum_{<ij>} -J Z_i Z_j -\\sum_i \\Gamma X_i\n",
    "\\end{equation}\n",
    "where in $X$ and $Z$ are Pauli matirces.\n"
   ]
  },
  {
   "cell_type": "code",
   "execution_count": 4,
   "metadata": {},
   "outputs": [
    {
     "data": {
      "text/plain": [
       "cMPS{Array{Float64,2}}([0.8831879433987382 0.40860262057944774; 0.4092469733853561 0.4163402363076174], [0.24349282281502127 0.34449729704270426; 0.9005631021181324 0.8263147558380028])"
      ]
     },
     "execution_count": 4,
     "metadata": {},
     "output_type": "execute_result"
    }
   ],
   "source": [
    "J = 1.0; Γ = 1.0\n",
    "X = [0 1; 1 0]\n",
    "Z = [1 0; -1 0]\n",
    "β = 1\n",
    "\n",
    "W = cMPO(Γ*X, √J*Z, √J*Z, zeros(2,2))\n",
    "Q = rand(2,2)\n",
    "R = rand(2,2);\n",
    "ψ = cMPS(Q,R)"
   ]
  },
  {
   "cell_type": "code",
   "execution_count": null,
   "metadata": {},
   "outputs": [],
   "source": [
    "function OptimF(x::Array{Float64,3})\n",
    "    ψ = cMPS(x[:,:,1], x[:,:,2])\n",
    "    return F(ψ,W,β)\n",
    "end\n",
    "\n",
    "function OptimF!(gx::Array{Float64,3}, x::Array{Float64,3})\n",
    "    ψ = cMPS(x[:,:,1], x[:,:,2])\n",
    "    grad = gradient(ψ -> F(ψ, W, β), ψ)[1]\n",
    "    grad = cMPS(grad.Q, grad.R)\n",
    "    gx = toarray(grad)\n",
    "    return gx\n",
    "end\n",
    "\n",
    "function toarray(ψ::cMPS)\n",
    "    # size(Q) == size(R)\n",
    "    (r,c) = size(ψ.Q)\n",
    "    x = zeros(r,c,2)\n",
    "    x[:,:,1] = ψ.Q\n",
    "    x[:,:,2] = ψ.R\n",
    "    return x\n",
    "end"
   ]
  },
  {
   "cell_type": "code",
   "execution_count": null,
   "metadata": {},
   "outputs": [],
   "source": [
    "x = toarray(ψ) \n",
    "optimize(OptimF, OptimF!, x, LBFGS())"
   ]
  },
  {
   "cell_type": "code",
   "execution_count": 5,
   "metadata": {},
   "outputs": [
    {
     "data": {
      "text/plain": [
       "-0.8173664918047276"
      ]
     },
     "execution_count": 5,
     "metadata": {},
     "output_type": "execute_result"
    }
   ],
   "source": [
    "F(ψ,W,1)"
   ]
  },
  {
   "cell_type": "code",
   "execution_count": null,
   "metadata": {},
   "outputs": [],
   "source": []
  },
  {
   "cell_type": "code",
   "execution_count": null,
   "metadata": {},
   "outputs": [],
   "source": []
  }
 ],
 "metadata": {
  "kernelspec": {
   "display_name": "Julia 1.5.3",
   "language": "julia",
   "name": "julia-1.5"
  },
  "language_info": {
   "file_extension": ".jl",
   "mimetype": "application/julia",
   "name": "julia",
   "version": "1.5.3"
  },
  "latex_envs": {
   "LaTeX_envs_menu_present": true,
   "autoclose": false,
   "autocomplete": false,
   "bibliofile": "biblio.bib",
   "cite_by": "apalike",
   "current_citInitial": 1,
   "eqLabelWithNumbers": true,
   "eqNumInitial": 1,
   "hotkeys": {
    "equation": "Ctrl-E",
    "itemize": "Ctrl-I"
   },
   "labels_anchors": false,
   "latex_user_defs": false,
   "report_style_numbering": true,
   "user_envs_cfg": false
  },
  "toc": {
   "base_numbering": 1,
   "nav_menu": {},
   "number_sections": true,
   "sideBar": true,
   "skip_h1_title": false,
   "title_cell": "Table of Contents",
   "title_sidebar": "Contents",
   "toc_cell": false,
   "toc_position": {},
   "toc_section_display": true,
   "toc_window_display": false
  }
 },
 "nbformat": 4,
 "nbformat_minor": 4
}
