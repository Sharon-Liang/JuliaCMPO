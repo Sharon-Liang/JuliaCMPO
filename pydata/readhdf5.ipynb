{
 "cells": [
  {
   "cell_type": "code",
   "execution_count": 57,
   "metadata": {},
   "outputs": [],
   "source": [
    "using LinearAlgebra\n",
    "using cMPO\n",
    "using OMEinsum\n",
    "using DelimitedFiles"
   ]
  },
  {
   "cell_type": "code",
   "execution_count": 58,
   "metadata": {},
   "outputs": [
    {
     "data": {
      "text/plain": [
       "\"/home/sliang/JuliaCode/mycMPO/pydata\""
      ]
     },
     "metadata": {},
     "output_type": "display_data"
    }
   ],
   "source": [
    "β = 10.0; D = 8\n",
    "xxz2D = XXZmodel_2D_helical(1.0)\n",
    "xxz = XXZmodel(1.0)\n",
    "ising = TFIsing(1.0,1.0)\n",
    "pyFolder = \"/home/sliang/JuliaCode/mycMPO/pydata\""
   ]
  },
  {
   "cell_type": "code",
   "execution_count": 59,
   "metadata": {},
   "outputs": [
    {
     "data": {
      "text/plain": [
       "XXZmodel_tw (generic function with 1 method)"
      ]
     },
     "metadata": {},
     "output_type": "display_data"
    }
   ],
   "source": [
    "# def tw xxz model\n",
    "function XXZmodel_tw(Δ::Real)\n",
    "    if Δ == 0\n",
    "        return XYmodel()\n",
    "    else\n",
    "        sp = pauli(:+); sm = pauli(:-); sz = 0.5 * pauli(:z)\n",
    "        L = zeros(2, 2, 3)\n",
    "        L[:,:,1] = 1/√2 * sp ; L[:,:,2] = 1/√2 * sm; L[:,:,3] = √Δ * sz\n",
    "        R = zeros(2, 2, 3)\n",
    "        R[:,:,1] = 1/√2 * sm ; R[:,:,2] = 1/√2 * sp; R[:,:,3] = -√Δ * sz\n",
    "        Q = zeros(2, 2)\n",
    "        P = zeros(2, 2, 3, 3)\n",
    "        Tmatrix = CMPO(Q,R,L,P)\n",
    "        Ut = [0 1 0; 1 0 0; 0 0 -1] # may not be correct\n",
    "        return PhysModel(Tmatrix, 2, 3, Ut)\n",
    "    end\n",
    "end"
   ]
  },
  {
   "cell_type": "code",
   "execution_count": 60,
   "metadata": {},
   "outputs": [
    {
     "name": "stdout",
     "output_type": "stream",
     "text": [
      "twf - twf_py = 1.2227938361308865e-6\n",
      "xxz_D8 - twf_py = 7.208242949363619e-6\n"
     ]
    }
   ],
   "source": [
    "twψ = readCMPS(\"$(pyFolder)/tw.hdf5\", python = true)\n",
    "twf_py = -0.4465157999549579\n",
    "xxz_D8 = -0.4465085917120085\n",
    "twf = free_energy(twψ, xxz.Tmatrix, β)\n",
    "println(\"twf - twf_py = \", twf - twf_py) \n",
    "println(\"xxz_D8 - twf_py = \", xxz_D8 - twf_py)  #检查精度问题, 检查 norm(<ψ|ψ>)"
   ]
  },
  {
   "cell_type": "code",
   "execution_count": 61,
   "metadata": {},
   "outputs": [
    {
     "name": "stdout",
     "output_type": "stream",
     "text": [
      "twf_t - twf_py = 1.3437384361880689e-6\n"
     ]
    }
   ],
   "source": [
    "xxz_tw = XXZmodel_tw(1.0)\n",
    "# 精度问题： Tmatrix 不同\n",
    "twf_t = free_energy(twψ, xxz_tw.Tmatrix, β)\n",
    "println(\"twf_t - twf_py = \", twf_t - twf_py)"
   ]
  },
  {
   "cell_type": "code",
   "execution_count": 62,
   "metadata": {},
   "outputs": [
    {
     "name": "stdout",
     "output_type": "stream",
     "text": [
      "|tw_py_gong_norm - tw_jl_gong_norm| = 0.0\n"
     ]
    }
   ],
   "source": [
    "tw_py_gong_norm = 21.398861689266973\n",
    "tw_jl_gong_norm = norm(twψ*twψ)\n",
    "println(\"|tw_py_gong_norm - tw_jl_gong_norm| = \", abs(tw_py_gong_norm - tw_jl_gong_norm))"
   ]
  },
  {
   "cell_type": "code",
   "execution_count": 63,
   "metadata": {},
   "outputs": [
    {
     "name": "stdout",
     "output_type": "stream",
     "text": [
      "|tw_py_wang_norm - tw_jl_wang_norm| = 3.552713678800501e-15\n"
     ]
    }
   ],
   "source": [
    "tw_py_wang_norm = 30.8915383554522\n",
    "tw_jl_wang_norm = norm(twψ* xxz_tw.Tmatrix * twψ)\n",
    "println(\"|tw_py_wang_norm - tw_jl_wang_norm| = \", abs(tw_py_wang_norm - tw_jl_wang_norm))"
   ]
  },
  {
   "cell_type": "code",
   "execution_count": 64,
   "metadata": {},
   "outputs": [
    {
     "name": "stdout",
     "output_type": "stream",
     "text": [
      "|tw_py_gong_lnovlp - tw_jl_gong_lnovlp| = 2.886579864025407e-14\n"
     ]
    }
   ],
   "source": [
    "tw_py_gong_lnovlp = 2.765812266575948\n",
    "tw_jl_gong_lnovlp = log_overlap(twψ, twψ, β)\n",
    "println(\"|tw_py_gong_lnovlp - tw_jl_gong_lnovlp| = \", abs(tw_py_gong_lnovlp - tw_jl_gong_lnovlp))"
   ]
  },
  {
   "cell_type": "code",
   "execution_count": 65,
   "metadata": {},
   "outputs": [
    {
     "name": "stdout",
     "output_type": "stream",
     "text": [
      "|tw_py_wang_lnovlp - tw_jl_wang_lnovlp| = 1.7763568394002505e-15\n"
     ]
    }
   ],
   "source": [
    "tw_py_wang_lnovlp = 7.230956828741138\n",
    "tw_jl_wang_lnovlp = log_overlap(twψ, xxz_tw.Tmatrix * twψ, β)\n",
    "println(\"|tw_py_wang_lnovlp - tw_jl_wang_lnovlp| = \", abs(tw_py_wang_lnovlp - tw_jl_wang_lnovlp))"
   ]
  },
  {
   "cell_type": "code",
   "execution_count": 66,
   "metadata": {},
   "outputs": [
    {
     "name": "stdout",
     "output_type": "stream",
     "text": [
      "|fpy - fjl| = 2.7200464103316335e-15\n",
      "|fpy - twf_py| = 1.3437384389081153e-6\n"
     ]
    }
   ],
   "source": [
    "fpy = -(tw_py_wang_lnovlp  - tw_py_gong_lnovlp)/β\n",
    "fjl = -(tw_jl_wang_lnovlp - tw_jl_gong_lnovlp)/β\n",
    "println(\"|fpy - fjl| = \", abs(fpy - fjl))\n",
    "println(\"|fpy - twf_py| = \", abs(fpy - twf_py))  "
   ]
  },
  {
   "cell_type": "code",
   "execution_count": 68,
   "metadata": {},
   "outputs": [
    {
     "name": "stdout",
     "output_type": "stream",
     "text": [
      "|twf - fpy| = 1.2094460277722874e-7\n",
      "|twf_t - fpy| = 2.7200464103316335e-15\n"
     ]
    }
   ],
   "source": [
    "println(\"|twf - fpy| = \", abs(twf - fpy))\n",
    "println(\"|twf_t - fpy| = \", abs(twf_t - fpy))"
   ]
  },
  {
   "cell_type": "code",
   "execution_count": null,
   "metadata": {},
   "outputs": [],
   "source": [
    "#ls_p100.hdf5\n",
    "Ut = xxz2D.Ut\n",
    "ψr = readCMPS(\"$(pyFolder)/ls_p100.hdf5\", python = true)\n",
    "ψl = Ut * ψr\n",
    "lsf1 = free_energy(ψl, ψr, xxz2D.Tmatrix, β)\n",
    "lsf2 = free_energy(ψr, xxz2D.Tmatrix, β)\n",
    "lsf_py = -0.446514577807\n",
    "\n",
    "println(\"lsf - lsf_py = \", lsf1 - lsf_py) \n",
    "println(\"lsf - xxz_D8 = \", lsf1 - xxz_D8) "
   ]
  },
  {
   "cell_type": "code",
   "execution_count": null,
   "metadata": {},
   "outputs": [],
   "source": [
    "log_overlap(ψr, ψr, β) ≈ log_overlap(ψl, ψr, β) "
   ]
  },
  {
   "cell_type": "code",
   "execution_count": null,
   "metadata": {},
   "outputs": [],
   "source": [
    "ψr.R ≈ ψl.R"
   ]
  },
  {
   "cell_type": "code",
   "execution_count": null,
   "metadata": {},
   "outputs": [],
   "source": [
    "# calculate G(τ)\n",
    "Ntau = 1601\n",
    "o = make_operator(pauli(:z), 10)\n",
    "tau = [i for i in range(0,β,length=Ntau)]\n",
    "Gt = [correlation_2time(τ,o,o',ψl,ψr,xxz2D.Tmatrix, β) for τ in tau];"
   ]
  },
  {
   "cell_type": "code",
   "execution_count": null,
   "metadata": {},
   "outputs": [],
   "source": [
    "Gtau_ResultFile = \"$(pyFolder)/gtau_pz_ls_p100.txt\"\n",
    "open(Gtau_ResultFile,\"w+\") do file\n",
    "    for i=1: Ntau\n",
    "        writedlm(file,[tau[i] Gt[i]])\n",
    "    end\n",
    "end"
   ]
  },
  {
   "cell_type": "code",
   "execution_count": null,
   "metadata": {},
   "outputs": [],
   "source": [
    "# calculate G(τ) - tw\n",
    "Gt_tw = [correlation_2time(τ,o,o',twψ, xxz.Tmatrix, β) for τ in tau];"
   ]
  },
  {
   "cell_type": "code",
   "execution_count": null,
   "metadata": {},
   "outputs": [],
   "source": [
    "Gtau_ResultFile_tw= \"$(pyFolder)/gtau_pz_tw.txt\"\n",
    "open(Gtau_ResultFile_tw,\"w+\") do file\n",
    "    for i=1: Ntau\n",
    "        writedlm(file,[tau[i] Gt_tw[i]])\n",
    "    end\n",
    "end"
   ]
  },
  {
   "cell_type": "code",
   "execution_count": null,
   "metadata": {},
   "outputs": [],
   "source": [
    "# Check free energy function \n",
    "IsingData = load(\"/data/sliang/CMPO/ising/D_8/ug_1.0.jld\")\n",
    "ψi = tocmps(IsingData[string(β)][2])\n",
    "free_energy(ψi, ising.Tmatrix, β) ≈ -1.2745494893094984"
   ]
  },
  {
   "cell_type": "code",
   "execution_count": null,
   "metadata": {},
   "outputs": [],
   "source": [
    "#test hdf5\n",
    "#a2D = [1 2; 3 4]\n",
    "# numpy a3D[0,:,:] = [1 2; 3 4] ; a3D[1,:,:] = [5 6; 7 8]\n",
    "test = h5open(\"test.hdf5\", \"r\")\n",
    "a2D = read(test[\"a2D\"]) |> transpose\n",
    "a3D = read(test[\"a3D\"])\n",
    "a3D = ein\"ijk->jik\"(a3D)\n",
    "\n",
    "b2D = [1 2; 3 4]\n",
    "b3D = [1; 3;; 2; 4;;; 5; 7;; 6; 8] ; #b3D[:,:,1] = [1 2; 3 4] ; b3D[:,:,2] = [5 6; 7 8] ;\n",
    "\n",
    "println(\"a2D == b2D ? \", a2D == b2D)\n",
    "println(\"a3D == b3D ? \", a3D == b3D)"
   ]
  }
 ],
 "metadata": {
  "kernelspec": {
   "display_name": "Julia 1.7.1",
   "language": "julia",
   "name": "julia-1.7"
  },
  "language_info": {
   "file_extension": ".jl",
   "mimetype": "application/julia",
   "name": "julia",
   "version": "1.7.1"
  },
  "orig_nbformat": 4
 },
 "nbformat": 4,
 "nbformat_minor": 2
}
