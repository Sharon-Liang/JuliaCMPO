{
 "cells": [
  {
   "cell_type": "code",
   "execution_count": 49,
   "metadata": {},
   "outputs": [],
   "source": [
    "using DelimitedFiles, Printf\n",
    "using NonNegLeastSquares, LinearAlgebra\n",
    "include(\"/home/sliang/JuliaCode/mycMPO/src/KernelFunction.jl\")\n",
    "lambda = [10^i for i in range(-6.,0.,step = 1.)];"
   ]
  },
  {
   "cell_type": "code",
   "execution_count": 50,
   "metadata": {},
   "outputs": [
    {
     "data": {
      "text/plain": [
       "\"/data/sliang/CMPO/XXZ_2D_helical/Jxy_1.00_Jz_1.00_wid_01/Spectrum\""
      ]
     },
     "metadata": {},
     "output_type": "display_data"
    }
   ],
   "source": [
    "SpectrumPath = \"/data/sliang/CMPO/XXZ_2D_helical/Jxy_1.00_Jz_1.00_wid_01/Spectrum\"\n",
    "isdir(SpectrumPath) || mkdir(SpectrumPath)"
   ]
  },
  {
   "cell_type": "code",
   "execution_count": 51,
   "metadata": {},
   "outputs": [
    {
     "data": {
      "text/plain": [
       "true"
      ]
     },
     "metadata": {},
     "output_type": "display_data"
    }
   ],
   "source": [
    "DataPath = \"/data/sliang/CMPO/XXZ_2D_helical/Jxy_1.00_Jz_1.00_wid_01/Correlations/Gtau\"\n",
    "isdir(SpectrumPath)"
   ]
  },
  {
   "cell_type": "code",
   "execution_count": 52,
   "metadata": {},
   "outputs": [],
   "source": [
    "beta = [i for i in range(1., 10., step = 1.0)];"
   ]
  },
  {
   "cell_type": "code",
   "execution_count": 53,
   "metadata": {},
   "outputs": [],
   "source": [
    "ω, len = build_range(0.01, 10, 0);\n",
    "eye = Matrix(1.0I, len, len);"
   ]
  },
  {
   "cell_type": "code",
   "execution_count": 54,
   "metadata": {},
   "outputs": [],
   "source": [
    "for β in beta \n",
    "    gtau_path = @sprintf \"/data/sliang/CMPO/XXZ_2D_helical/Jxy_1.00_Jz_1.00_wid_01/Correlations/Gtau/sz_sz_bondD_10_beta_%.2f.txt\" β\n",
    "    d = readdlm(gtau_path); x1 = d[:,1]; y1 = d[:,2]\n",
    "    K1 = build_kernal(0, x1, ω, β, :S)\n",
    "    for λ in lambda\n",
    "        ResultFile = @sprintf \"%s/S_sz_sz_bondD_10_beta_%.2f_lambda_%e.txt\" SpectrumPath β λ\n",
    "        ȳ1 = vcat(y1, zeros(len)); K̄1 = vcat(K1, λ*eye)\n",
    "        S1 = nonneg_lsq(K̄1,ȳ1;alg=:nnls)\n",
    "        open(ResultFile, \"w+\") do file\n",
    "            for i = 1:len\n",
    "                writedlm(file, [ω[i] S1[i]])\n",
    "            end\n",
    "        end\n",
    "    end\n",
    "end\n",
    "    \n"
   ]
  },
  {
   "cell_type": "code",
   "execution_count": null,
   "metadata": {},
   "outputs": [],
   "source": [
    "tw_gtau = \"/home/sliang/JuliaCode/mycMPO/pydata/gtau_pz_tw.txt\"\n",
    "dtw = readdlm(tw_gtau); x1 = dtw[:,1]; y1 = 1/4 * dtw[:,2]\n"
   ]
  },
  {
   "cell_type": "code",
   "execution_count": null,
   "metadata": {},
   "outputs": [],
   "source": [
    "ls_gtau = \"/home/sliang/JuliaCode/mycMPO/pydata/gtau_pz_ls_p100.txt\"\n",
    "dls = readdlm(ls_gtau); x2 = dls[:,1]; y2 = 1/4 * dls[:,2];"
   ]
  },
  {
   "cell_type": "code",
   "execution_count": null,
   "metadata": {},
   "outputs": [],
   "source": [
    "β = 10.0\n",
    "ω, len = build_range(0.01, 10, 0)\n",
    "K1 = build_kernal(0, x1, ω, β, :S)\n",
    "K2 = build_kernal(0, x2, ω, β, :S)\n",
    "eye = Matrix(1.0I, len, len);"
   ]
  },
  {
   "cell_type": "code",
   "execution_count": null,
   "metadata": {},
   "outputs": [],
   "source": [
    "for λ in lambda\n",
    "    ResultFile1 = @sprintf \"./tw_sz_lambda_%e.txt\" λ\n",
    "    ResultFile2 = @sprintf \"./ls_sz_p100_lambda_%e.txt\" λ\n",
    "    ȳ1 = vcat(y1, zeros(len)); K̄1 = vcat(K1, λ*eye)\n",
    "    ȳ2 = vcat(y2, zeros(len)); K̄2 = vcat(K2, λ*eye)\n",
    "    S1 = nonneg_lsq(K̄1,ȳ1;alg=:nnls)\n",
    "    S2 = nonneg_lsq(K̄2,ȳ2;alg=:nnls)\n",
    "    open(ResultFile1, \"w+\") do file\n",
    "        for i = 1:len\n",
    "            writedlm(file, [ω[i] S1[i]])\n",
    "        end\n",
    "    end\n",
    "    open(ResultFile2, \"w+\") do file\n",
    "        for i = 1:len\n",
    "            writedlm(file, [ω[i] S2[i]])\n",
    "        end\n",
    "    end\n",
    "end"
   ]
  }
 ],
 "metadata": {
  "kernelspec": {
   "display_name": "Julia 1.7.1",
   "language": "julia",
   "name": "julia-1.7"
  },
  "language_info": {
   "file_extension": ".jl",
   "mimetype": "application/julia",
   "name": "julia",
   "version": "1.7.1"
  },
  "orig_nbformat": 4
 },
 "nbformat": 4,
 "nbformat_minor": 2
}
