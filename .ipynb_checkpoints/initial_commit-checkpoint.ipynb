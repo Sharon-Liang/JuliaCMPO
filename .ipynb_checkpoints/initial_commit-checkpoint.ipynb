{
 "cells": [
  {
   "cell_type": "code",
   "execution_count": 1,
   "metadata": {},
   "outputs": [],
   "source": [
    "# packages\n",
    "using LinearAlgebra\n",
    "#using OMEinsum, SymEngine\n",
    "using Random\n",
    "Random.seed!();\n",
    "using BenchmarkTools\n",
    "using Optim\n",
    "using Zygote"
   ]
  },
  {
   "cell_type": "code",
   "execution_count": 113,
   "metadata": {},
   "outputs": [
    {
     "data": {
      "text/plain": [
       "symmetrize (generic function with 1 method)"
      ]
     },
     "execution_count": 113,
     "metadata": {},
     "output_type": "execute_result"
    }
   ],
   "source": [
    "# Tool fuctions\n",
    "function symmetrize(A::AbstractArray)\n",
    "    return (A + A')/2\n",
    "end"
   ]
  },
  {
   "cell_type": "code",
   "execution_count": 2,
   "metadata": {},
   "outputs": [],
   "source": [
    "struct cMPS{T<:AbstractArray}\n",
    "    Q::T\n",
    "    R::T\n",
    "end\n",
    "\n",
    "struct cMPO{T<:AbstractArray}\n",
    "    Q::T  # onsite\n",
    "    R::T  # interaction\n",
    "    L::T  # interaction\n",
    "    P::T  # long-range\n",
    "end"
   ]
  },
  {
   "cell_type": "code",
   "execution_count": 134,
   "metadata": {
    "scrolled": true
   },
   "outputs": [
    {
     "name": "stdout",
     "output_type": "stream",
     "text": [
      "gradient((ψ->begin\n",
      "            #= In[134]:36 =#\n",
      "            F(ψ, W, 1)\n",
      "        end), ψ) = ((Q = [-0.10204373160994851 -0.05283230361560365; -0.1511780951260524 0.10204373160994801], R = [0.5079742392559548 -0.392746873818752; -0.407123624351625 0.44309484983170255]),)\n",
      "myinnerprod(ψ, ψ, 1) = 1.9929409702076333\n",
      "myinnerprod_old(ψ, ψ, 1) = 1.992940970207634\n"
     ]
    },
    {
     "data": {
      "text/plain": [
       "1.992940970207634"
      ]
     },
     "execution_count": 134,
     "metadata": {},
     "output_type": "execute_result"
    }
   ],
   "source": [
    "function myprod(O::cMPO, S::cMPS)\n",
    "    Oi = Matrix(1.0I,size(O.Q))\n",
    "    Si = Matrix(1.0I,size(S.Q))\n",
    "    Q = kron(Oi , S.Q) + kron(O.Q , Si) + kron(O.L , S.R)\n",
    "    R = kron(O.R , Si) + kron(O.P , S.R)\n",
    "    return cMPS(Q, R)\n",
    "end\n",
    "\n",
    "function myinnerprod(sl::cMPS, sr::cMPS, β::Real)\n",
    "    li = Matrix(1.0I,size(sl.Q))    \n",
    "    ri = Matrix(1.0I,size(sr.Q))    \n",
    "    K = kron(li , sr.Q) + kron(sl.Q , ri) + kron(sl.R, sr.R)\n",
    "    #K = symmetrize(K)\n",
    "    vals, vecs = eigen(K)\n",
    "    res = 0.\n",
    "    for i=1:length(vals)\n",
    "        res += exp(-β*vals[i])\n",
    "    end\n",
    "    return  res\n",
    "end\n",
    "\n",
    "function myinnerprod_old(sl::cMPS, sr::cMPS, β::Real)\n",
    "    li = Matrix(1.0I,size(sl.Q))    \n",
    "    ri = Matrix(1.0I,size(sr.Q))    \n",
    "    K = kron(li , sr.Q) + kron(sl.Q , ri) + kron(sl.R, sr.R)\n",
    "    K = 1.0 * K\n",
    "    return  exp(-β*K) |> tr\n",
    "end\n",
    "\n",
    "function F(ψ::cMPS, W::cMPO, β::Real)\n",
    "    Hψ = myprod(W,ψ)\n",
    "    res = log(myinnerprod(ψ, Hψ ,β))- log(myinnerprod(ψ,ψ,β))\n",
    "    return -1/β * res\n",
    "end \n",
    "\n",
    "@show gradient(ψ -> F(ψ, W, 1),ψ)\n",
    "@show myinnerprod(ψ,ψ,1)\n",
    "@show myinnerprod_old(ψ,ψ,1)"
   ]
  },
  {
   "cell_type": "markdown",
   "metadata": {},
   "source": [
    "\\section{Transverse field Ising model(TFIM)}\n",
    "\n",
    "Model Hamiltonian:\n",
    "\\begin{equation}\n",
    "    H = \\sum_{<ij>} -J Z_i Z_j -\\sum_i \\Gamma X_i\n",
    "\\end{equation}\n",
    "where in $X$ and $Z$ are Pauli matirces.\n"
   ]
  },
  {
   "cell_type": "code",
   "execution_count": 32,
   "metadata": {},
   "outputs": [],
   "source": [
    "J = 1.0; Γ = 1.0\n",
    "X = [0 1; 1 0]\n",
    "Z = [1 0; -1 0]\n",
    "T = 1\n",
    "\n",
    "W = cMPO(Γ*X, √J*Z, √J*Z, zeros(2,2))\n",
    "Q = rand(2,2)\n",
    "R = rand(2,2);"
   ]
  },
  {
   "cell_type": "code",
   "execution_count": 85,
   "metadata": {},
   "outputs": [
    {
     "data": {
      "text/plain": [
       "#76 (generic function with 1 method)"
      ]
     },
     "execution_count": 85,
     "metadata": {},
     "output_type": "execute_result"
    }
   ],
   "source": [
    "ψ -> gradient(F(ψ, W, 1)) "
   ]
  },
  {
   "cell_type": "code",
   "execution_count": 87,
   "metadata": {},
   "outputs": [
    {
     "name": "stdout",
     "output_type": "stream",
     "text": [
      "ψ = cMPS{Array{Float64,2}}([0.1966502041639826 0.5755396238558241; 0.8269466004778361 0.9550195391377017], [0.8052743061096796 0.5602968358798268; 0.30812680846335083 0.32444360761572133])\n"
     ]
    },
    {
     "data": {
      "text/plain": [
       "#80 (generic function with 1 method)"
      ]
     },
     "execution_count": 87,
     "metadata": {},
     "output_type": "execute_result"
    }
   ],
   "source": [
    "function g!(x::cMPS)\n",
    "   return x -> gradient(F(x, W, 1))\n",
    "end\n",
    "@show ψ\n",
    "g!(ψ)"
   ]
  },
  {
   "cell_type": "code",
   "execution_count": 89,
   "metadata": {},
   "outputs": [
    {
     "ename": "LoadError",
     "evalue": "MethodError: no method matching iterate(::cMPS{Array{Float64,2}})\nClosest candidates are:\n  iterate(!Matched::Pkg.Resolve.NodePerm, !Matched::Any...) at /Users/julia/buildbot/worker/package_macos64/build/usr/share/julia/stdlib/v1.5/Pkg/src/Resolve/maxsum.jl:228\n  iterate(!Matched::Test.GenericString) at /Users/julia/buildbot/worker/package_macos64/build/usr/share/julia/stdlib/v1.5/Test/src/Test.jl:1589\n  iterate(!Matched::Test.GenericString, !Matched::Integer) at /Users/julia/buildbot/worker/package_macos64/build/usr/share/julia/stdlib/v1.5/Test/src/Test.jl:1589\n  ...",
     "output_type": "error",
     "traceback": [
      "MethodError: no method matching iterate(::cMPS{Array{Float64,2}})\nClosest candidates are:\n  iterate(!Matched::Pkg.Resolve.NodePerm, !Matched::Any...) at /Users/julia/buildbot/worker/package_macos64/build/usr/share/julia/stdlib/v1.5/Pkg/src/Resolve/maxsum.jl:228\n  iterate(!Matched::Test.GenericString) at /Users/julia/buildbot/worker/package_macos64/build/usr/share/julia/stdlib/v1.5/Test/src/Test.jl:1589\n  iterate(!Matched::Test.GenericString, !Matched::Integer) at /Users/julia/buildbot/worker/package_macos64/build/usr/share/julia/stdlib/v1.5/Test/src/Test.jl:1589\n  ...",
      "",
      "Stacktrace:",
      " [1] iterate at ./generator.jl:44 [inlined]",
      " [2] collect(::Base.Generator{cMPS{Array{Float64,2}},var\"#86#87\"}) at ./array.jl:686",
      " [3] map(::Function, ::cMPS{Array{Float64,2}}) at ./abstractarray.jl:2188",
      " [4] top-level scope at In[89]:5",
      " [5] include_string(::Function, ::Module, ::String, ::String) at ./loading.jl:1091"
     ]
    }
   ],
   "source": [
    "ψ = cMPS(Q,R)\n",
    "function g!(x::cMPS)\n",
    "   return x -> gradient(F(x, W, 1))\n",
    "end\n",
    "\n"
   ]
  },
  {
   "cell_type": "code",
   "execution_count": 101,
   "metadata": {},
   "outputs": [
    {
     "ename": "LoadError",
     "evalue": "ArgumentError: Cannot setindex! to -0.12084913032574766 for an AbstractFill with value -0.24169826065149533.",
     "output_type": "error",
     "traceback": [
      "ArgumentError: Cannot setindex! to -0.12084913032574766 for an AbstractFill with value -0.24169826065149533.",
      "",
      "Stacktrace:",
      " [1] setindex! at /Users/liangshuang/.julia/packages/FillArrays/iPirx/src/FillArrays.jl:53 [inlined]",
      " [2] copyto!(::Diagonal{Float64,FillArrays.Fill{Float64,1,Tuple{Base.OneTo{Int64}}}}, ::Base.Broadcast.Broadcasted{LinearAlgebra.StructuredMatrixStyle{Diagonal{Float64,FillArrays.Fill{Float64,1,Tuple{Base.OneTo{Int64}}}}},Tuple{Base.OneTo{Int64},Base.OneTo{Int64}},typeof(/),Tuple{Diagonal{Float64,FillArrays.Fill{Float64,1,Tuple{Base.OneTo{Int64}}}},Float64}}) at /Users/julia/buildbot/worker/package_macos64/build/usr/share/julia/stdlib/v1.5/LinearAlgebra/src/structuredbroadcast.jl:138",
      " [3] materialize! at ./broadcast.jl:848 [inlined]",
      " [4] materialize! at ./broadcast.jl:845 [inlined]",
      " [5] _matfun_frechet!(::typeof(exp), ::Diagonal{Float64,FillArrays.Fill{Float64,1,Tuple{Base.OneTo{Int64}}}}, ::Array{Float64,2}, ::Array{Float64,2}, ::Tuple{Int64,Int64,Array{Float64,1},Array{Float64,1},Int64,Array{Array{Float64,2},1},Array{Float64,2},LU{Float64,Array{Float64,2}},Array{Array{Float64,2},1}}) at /Users/liangshuang/.julia/packages/ChainRules/vQPoD/src/rulesets/LinearAlgebra/matfun.jl:236",
      " [6] _matfun_frechet_adjoint! at /Users/liangshuang/.julia/packages/ChainRules/vQPoD/src/rulesets/LinearAlgebra/matfun.jl:94 [inlined]",
      " [7] exp_pullback at /Users/liangshuang/.julia/packages/ChainRules/vQPoD/src/rulesets/LinearAlgebra/matfun.jl:132 [inlined]",
      " [8] ZBack at /Users/liangshuang/.julia/packages/Zygote/KpME9/src/compiler/chainrules.jl:77 [inlined]",
      " [9] myinnerprod at ./In[99]:15 [inlined]",
      " [10] (::typeof(∂(myinnerprod)))(::Float64) at /Users/liangshuang/.julia/packages/Zygote/KpME9/src/compiler/interface2.jl:0",
      " [11] F at ./In[100]:3 [inlined]",
      " [12] (::typeof(∂(F)))(::Float64) at /Users/liangshuang/.julia/packages/Zygote/KpME9/src/compiler/interface2.jl:0",
      " [13] #99 at ./In[101]:1 [inlined]",
      " [14] (::typeof(∂(#99)))(::Float64) at /Users/liangshuang/.julia/packages/Zygote/KpME9/src/compiler/interface2.jl:0",
      " [15] (::Zygote.var\"#41#42\"{typeof(∂(#99))})(::Float64) at /Users/liangshuang/.julia/packages/Zygote/KpME9/src/compiler/interface.jl:40",
      " [16] gradient(::Function, ::cMPS{Array{Float64,2}}) at /Users/liangshuang/.julia/packages/Zygote/KpME9/src/compiler/interface.jl:49",
      " [17] top-level scope at In[101]:1",
      " [18] include_string(::Function, ::Module, ::String, ::String) at ./loading.jl:1091"
     ]
    }
   ],
   "source": [
    "gradient(ψ -> F(ψ, W, 1),ψ)"
   ]
  },
  {
   "cell_type": "code",
   "execution_count": 100,
   "metadata": {},
   "outputs": [
    {
     "data": {
      "text/plain": [
       "difference (generic function with 1 method)"
      ]
     },
     "execution_count": 100,
     "metadata": {},
     "output_type": "execute_result"
    }
   ],
   "source": [
    "function F(ψ::cMPS, W::cMPO, β::Real)\n",
    "    Hψ = myprod(W,ψ)\n",
    "    res = log(myinnerprod(ψ, Hψ ,β))- log(myinnerprod(ψ,ψ,β))\n",
    "    return -1/β * res\n",
    "end \n",
    "\n",
    "function difference(ψ1::cMPS, ψ2::cMPS; β=1)\n",
    "    res = myinnerprod(ψ1,ψ1,β) + myinnerprod(ψ2,ψ2,β)\n",
    "    res -= myinnerprod(ψ2,ψ1,β) + myinnerprod(ψ1,ψ2,β)\n",
    "    return res\n",
    "end\n"
   ]
  },
  {
   "cell_type": "code",
   "execution_count": null,
   "metadata": {},
   "outputs": [],
   "source": [
    "function OptimF(x::Array{Float64,3})\n",
    "    ψ = cMPS(x[:,:,1], x[:,:,2])\n",
    "    return F(ψ,W,β)\n",
    "end"
   ]
  },
  {
   "cell_type": "code",
   "execution_count": 44,
   "metadata": {},
   "outputs": [
    {
     "ename": "LoadError",
     "evalue": "MethodError: no method matching optimize(::Float64, ::cMPS{Array{Float64,2}}, ::LBFGS{Nothing,LineSearches.InitialStatic{Float64},LineSearches.HagerZhang{Float64,Base.RefValue{Bool}},Optim.var\"#17#19\"})\nClosest candidates are:\n  optimize(::Any, ::Any, ::Any, !Matched::AbstractArray; inplace, autodiff, kwargs...) at /Users/liangshuang/.julia/packages/Optim/Yd5Zq/src/multivariate/optimize/interface.jl:102\n  optimize(::Any, ::Any, ::Any, !Matched::AbstractArray{T,N} where N, !Matched::Optim.Options; inplace, autodiff) where T at /Users/liangshuang/.julia/packages/Optim/Yd5Zq/src/multivariate/optimize/interface.jl:129\n  optimize(::Any, ::Any, ::Any, !Matched::AbstractArray{T,N} where N, !Matched::Optim.AbstractOptimizer) where T at /Users/liangshuang/.julia/packages/Optim/Yd5Zq/src/multivariate/optimize/interface.jl:157\n  ...",
     "output_type": "error",
     "traceback": [
      "MethodError: no method matching optimize(::Float64, ::cMPS{Array{Float64,2}}, ::LBFGS{Nothing,LineSearches.InitialStatic{Float64},LineSearches.HagerZhang{Float64,Base.RefValue{Bool}},Optim.var\"#17#19\"})\nClosest candidates are:\n  optimize(::Any, ::Any, ::Any, !Matched::AbstractArray; inplace, autodiff, kwargs...) at /Users/liangshuang/.julia/packages/Optim/Yd5Zq/src/multivariate/optimize/interface.jl:102\n  optimize(::Any, ::Any, ::Any, !Matched::AbstractArray{T,N} where N, !Matched::Optim.Options; inplace, autodiff) where T at /Users/liangshuang/.julia/packages/Optim/Yd5Zq/src/multivariate/optimize/interface.jl:129\n  optimize(::Any, ::Any, ::Any, !Matched::AbstractArray{T,N} where N, !Matched::Optim.AbstractOptimizer) where T at /Users/liangshuang/.julia/packages/Optim/Yd5Zq/src/multivariate/optimize/interface.jl:157\n  ...",
      "",
      "Stacktrace:",
      " [1] top-level scope at In[44]:5",
      " [2] include_string(::Function, ::Module, ::String, ::String) at ./loading.jl:1091"
     ]
    }
   ],
   "source": [
    "ψ = cMPS(Q,R)\n",
    "Hψ = myprod(W,ψ)\n",
    "Qi = rand(2,2)\n",
    "Ri = rand(2,2)\n",
    "b  = optimize(difference(ψi,Hψ), cMPS(Qi,Ri), LBFGS())"
   ]
  },
  {
   "cell_type": "code",
   "execution_count": 56,
   "metadata": {},
   "outputs": [
    {
     "data": {
      "text/plain": [
       "2×2×2 Array{Float64,3}:\n",
       "[:, :, 1] =\n",
       " 0.516284  0.648594\n",
       " 0.976104  0.994329\n",
       "\n",
       "[:, :, 2] =\n",
       " 0.76749   0.916729\n",
       " 0.608443  0.875186"
      ]
     },
     "execution_count": 56,
     "metadata": {},
     "output_type": "execute_result"
    }
   ],
   "source": [
    "a = rand(2,2,2)"
   ]
  },
  {
   "cell_type": "code",
   "execution_count": 111,
   "metadata": {},
   "outputs": [
    {
     "data": {
      "text/plain": [
       "2×2 Array{Complex{Int64},2}:\n",
       " 1+0im  2+1im\n",
       " 3+0im  4+0im"
      ]
     },
     "execution_count": 111,
     "metadata": {},
     "output_type": "execute_result"
    }
   ],
   "source": [
    "A = [1 2+1im; 3 4]"
   ]
  },
  {
   "cell_type": "code",
   "execution_count": 127,
   "metadata": {},
   "outputs": [
    {
     "data": {
      "text/plain": [
       "4"
      ]
     },
     "execution_count": 127,
     "metadata": {},
     "output_type": "execute_result"
    }
   ],
   "source": [
    "length(A)"
   ]
  },
  {
   "cell_type": "code",
   "execution_count": 29,
   "metadata": {},
   "outputs": [
    {
     "data": {
      "text/plain": [
       "Tuple{Int64,Int64}"
      ]
     },
     "execution_count": 29,
     "metadata": {},
     "output_type": "execute_result"
    }
   ],
   "source": [
    "a = size(Q) |> typeof"
   ]
  },
  {
   "cell_type": "code",
   "execution_count": null,
   "metadata": {},
   "outputs": [],
   "source": [
    "\"\"\"\n",
    "function overlap(ψ::cMPS, dim::Integer)\n",
    "    β = 1\n",
    "    (r1,c1) = size(ψ.Q)\n",
    "    (r2,c2) = size(ψ.R)\n",
    "    ψi = cMPS(rand(r1,c1), rand(r2,c2))\n",
    "    res = myinnerprod(ψ,ψ,β) + myinnerprod(ψi,ψi,β)\n",
    "    res -= myinnerprod(ψi,ψ,β) + myinnerprod(ψ,ψi,β)\n",
    "    return res\n",
    "end\n",
    "\"\"\"\n",
    "\"\"\"\n",
    "function F!(W::cMPO, ψ::cMPS, β::Real)\n",
    "    Hψ = myprod(W,ψ)\n",
    "    ψ2 = myinnerprod(ψ,ψ,β)\n",
    "    println(Hψ)\n",
    "    Z = myinnerprod(ψ, Hψ ,β)/ψ2\n",
    "    println(Z)\n",
    "    Qn = Hψ.Q/ψ2 - Z/ψ2 * ψ.Q\n",
    "    Rn = Hψ.R/ψ2 - Z/ψ2 * ψ.R\n",
    "    return cMPS(ψ.I,Qn,Rn)\n",
    "end\n",
    "\"\"\""
   ]
  }
 ],
 "metadata": {
  "kernelspec": {
   "display_name": "Julia 1.5.3",
   "language": "julia",
   "name": "julia-1.5"
  },
  "language_info": {
   "file_extension": ".jl",
   "mimetype": "application/julia",
   "name": "julia",
   "version": "1.5.3"
  },
  "latex_envs": {
   "LaTeX_envs_menu_present": true,
   "autoclose": false,
   "autocomplete": false,
   "bibliofile": "biblio.bib",
   "cite_by": "apalike",
   "current_citInitial": 1,
   "eqLabelWithNumbers": true,
   "eqNumInitial": 1,
   "hotkeys": {
    "equation": "Ctrl-E",
    "itemize": "Ctrl-I"
   },
   "labels_anchors": false,
   "latex_user_defs": false,
   "report_style_numbering": true,
   "user_envs_cfg": false
  },
  "toc": {
   "base_numbering": 1,
   "nav_menu": {},
   "number_sections": true,
   "sideBar": true,
   "skip_h1_title": false,
   "title_cell": "Table of Contents",
   "title_sidebar": "Contents",
   "toc_cell": false,
   "toc_position": {},
   "toc_section_display": true,
   "toc_window_display": false
  }
 },
 "nbformat": 4,
 "nbformat_minor": 4
}
