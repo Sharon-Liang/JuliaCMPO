{
 "cells": [
  {
   "cell_type": "code",
   "execution_count": 1,
   "metadata": {},
   "outputs": [
    {
     "data": {
      "text/plain": [
       "subtypetree (generic function with 3 methods)"
      ]
     },
     "execution_count": 1,
     "metadata": {},
     "output_type": "execute_result"
    }
   ],
   "source": [
    "# packages\n",
    "using QuantumLattices\n",
    "using LinearAlgebra\n",
    "using Random\n",
    "Random.seed!();\n",
    "\n",
    "function subtypetree(t, level=1, indent=4)\n",
    "           level == 1 && println(t)\n",
    "           for s in subtypes(t)\n",
    "             println(join(fill(\" \", level * indent)) * string(s))\n",
    "             subtypetree(s, level+1, indent)\n",
    "           end\n",
    "       end"
   ]
  },
  {
   "cell_type": "code",
   "execution_count": null,
   "metadata": {},
   "outputs": [],
   "source": []
  },
  {
   "cell_type": "code",
   "execution_count": 2,
   "metadata": {},
   "outputs": [],
   "source": [
    "\"\"\"\n",
    "Gerneral form of MPS and MPO\n",
    "cTensor --> cMPS, cMPO\n",
    "cMPS: act as AbstractVector, elements T <: AbstractArray\n",
    "cMPO: act as AbstractMatrix, elements T <: AbstractArray \n",
    "\n",
    "define type\n",
    "\"\"\"\n",
    "# d: physical bond dimension\n",
    "# D: spacial bond dimension\n",
    "# χ: time direction bond dimension\n",
    "\n",
    "\n",
    "# elements in cmps and cmpo are all operators\n",
    "\n",
    "# Onsite operators: \n",
    "# identity, sx ,sy, sz, longrange(modified identity operator)\n",
    "\n",
    "# spacial\n",
    "#onsite AbstractScalor(1*1) array, elements(identity operators)\n",
    "#interaction AbstractVector with dimension(D-1)\n",
    "#longrange: AbstractMatrix with Dimension (D-1)*(D-1)\n",
    "\n",
    "# cMPO :2*2 AbstractMatrix\n",
    "# cMPS : 1*2 AbstractArray\n",
    "\n",
    "# bond dimension\n",
    "\n",
    "\n",
    "#\n",
    "    \n",
    "struct cMPS{T<:AbstractMatrix, Td<:Integer}\n",
    "    D::Td\n",
    "    Q::T\n",
    "    R::Vector{T}\n",
    "    # check if the dimensions match!\n",
    "end\n",
    "\n",
    "struct cMPO{T<:AbstractMatrix, Td<:Integer}\n",
    "    D::Td\n",
    "    Q::T\n",
    "    R::Vector{T}\n",
    "    L::Vector{T}\n",
    "    P::Matrix{T}\n",
    "    #check if the dimensions match\n",
    "end\n",
    "\n",
    "#define product and inner product of cMPS and MPO\n",
    "#Converting to Matrix form (suppliment matrix function)"
   ]
  },
  {
   "cell_type": "code",
   "execution_count": null,
   "metadata": {},
   "outputs": [],
   "source": [
    "#define product and inner product of cMPS and MPO\n"
   ]
  },
  {
   "cell_type": "code",
   "execution_count": null,
   "metadata": {},
   "outputs": [],
   "source": [
    "\"\"\"\n",
    "Onsite operators(make use of QuantumLattices)\n",
    "d : Physical bond dimensions\n",
    "\"\"\"\n",
    "spin = 0.5\n",
    "d = 2*spin + 1 |> Int  \n",
    "Ii = Matrix(1.0I, d, d)\n",
    "Pi = zeros(d,d)\n",
    "\n",
    "# Matrix form of Spin operators, unnecessary of converting to matrix form\n",
    "sx = SID(1, spin, 'x') |> matrix"
   ]
  },
  {
   "cell_type": "code",
   "execution_count": null,
   "metadata": {},
   "outputs": [],
   "source": [
    "# Local operators for time direction\n",
    "# random χ * χ matrices\n"
   ]
  },
  {
   "cell_type": "code",
   "execution_count": 5,
   "metadata": {},
   "outputs": [
    {
     "ename": "LoadError",
     "evalue": "UndefVarError: T not defined",
     "output_type": "error",
     "traceback": [
      "UndefVarError: T not defined",
      "",
      "Stacktrace:",
      " [1] top-level scope at In[5]:1",
      " [2] include_string(::Function, ::Module, ::String, ::String) at ./loading.jl:1091"
     ]
    }
   ],
   "source": [
    "T <: Integer\n",
    "D::T"
   ]
  },
  {
   "cell_type": "code",
   "execution_count": 4,
   "metadata": {
    "scrolled": true
   },
   "outputs": [
    {
     "data": {
      "text/plain": [
       "UnionAll"
      ]
     },
     "execution_count": 4,
     "metadata": {},
     "output_type": "execute_result"
    }
   ],
   "source": []
  },
  {
   "cell_type": "code",
   "execution_count": null,
   "metadata": {},
   "outputs": [],
   "source": []
  }
 ],
 "metadata": {
  "kernelspec": {
   "display_name": "Julia 1.5.3",
   "language": "julia",
   "name": "julia-1.5"
  },
  "language_info": {
   "file_extension": ".jl",
   "mimetype": "application/julia",
   "name": "julia",
   "version": "1.5.3"
  }
 },
 "nbformat": 4,
 "nbformat_minor": 4
}
