{
 "cells": [
  {
   "cell_type": "code",
   "execution_count": 3,
   "metadata": {},
   "outputs": [
    {
     "data": {
      "text/plain": [
       "((Q = [-0.006936246699686843 0.007595777251923508; -0.4251448890466834 0.006936246699684623], R = [0.9753846308829908 -0.5883375961371093; -0.9145612039911808 0.8494839189956797]),)"
      ]
     },
     "execution_count": 3,
     "metadata": {},
     "output_type": "execute_result"
    }
   ],
   "source": [
    "using LinearAlgebra\n",
    "using Zygote\n",
    "using Optim\n",
    "using Random\n",
    "Random.seed!()\n",
    "\"\"\"Tool Functions\"\"\"\n",
    "\n",
    "\"\"\"Structs\"\"\"\n",
    "struct cMPS{T<:AbstractArray}\n",
    "    Q::T\n",
    "    R::T\n",
    "end\n",
    "\n",
    "struct cMPO{T<:AbstractArray}\n",
    "    Q::T  # onsite\n",
    "    R::T  # interaction\n",
    "    L::T  # interaction\n",
    "    P::T  # long-range\n",
    "end\n",
    "\n",
    "\"\"\"Functions\"\"\"\n",
    "function myprod(O::cMPO, S::cMPS)\n",
    "    Oi = Matrix(1.0I,size(O.Q))\n",
    "    Si = Matrix(1.0I,size(S.Q))\n",
    "    Q = kron(Oi , S.Q) + kron(O.Q , Si) + kron(O.L , S.R)\n",
    "    R = kron(O.R , Si) + kron(O.P , S.R)\n",
    "    return cMPS(Q, R)\n",
    "end\n",
    "\n",
    "function myinnerprod(sl::cMPS, sr::cMPS, β::Real)\n",
    "    li = Matrix(1.0I,size(sl.Q))    \n",
    "    ri = Matrix(1.0I,size(sr.Q))    \n",
    "    prod = kron(li , sr.Q) + kron(sl.Q , ri) + kron(sl.R, sr.R)\n",
    "    vals = eigvals(prod)\n",
    "    res = 0.\n",
    "    for i=1:length(vals)\n",
    "        res += exp(-β*vals[i])\n",
    "    end\n",
    "    return res\n",
    "end\n",
    "\n",
    "function F(ψ::cMPS, W::cMPO, β::Real)\n",
    "    Hψ = myprod(W,ψ)\n",
    "    res = log(myinnerprod(ψ, Hψ ,β))- log(myinnerprod(ψ,ψ,β))\n",
    "    return -1/β * res\n",
    "end \n",
    "\n",
    "\"\"\"Setups\"\"\"\n",
    "J = 1.0; Γ = 1.0\n",
    "X = [0. 1.; 1. 0.]\n",
    "Z = [1. 0.; -1. 0.]\n",
    "β = 1.\n",
    "\n",
    "W = cMPO(Γ*X, √J*Z, √J*Z, zeros(2,2))\n",
    "Q = rand(2,2)\n",
    "R = rand(2,2);\n",
    "ψ = cMPS(Q,R)\n",
    "\n",
    "# test\n",
    "gradient(ψ -> F(ψ, W, β), ψ)"
   ]
  },
  {
   "cell_type": "code",
   "execution_count": null,
   "metadata": {},
   "outputs": [],
   "source": []
  }
 ],
 "metadata": {
  "kernelspec": {
   "display_name": "Julia 1.5.3",
   "language": "julia",
   "name": "julia-1.5"
  },
  "language_info": {
   "file_extension": ".jl",
   "mimetype": "application/julia",
   "name": "julia",
   "version": "1.5.3"
  },
  "latex_envs": {
   "LaTeX_envs_menu_present": true,
   "autoclose": false,
   "autocomplete": false,
   "bibliofile": "biblio.bib",
   "cite_by": "apalike",
   "current_citInitial": 1,
   "eqLabelWithNumbers": true,
   "eqNumInitial": 1,
   "hotkeys": {
    "equation": "Ctrl-E",
    "itemize": "Ctrl-I"
   },
   "labels_anchors": false,
   "latex_user_defs": false,
   "report_style_numbering": true,
   "user_envs_cfg": false
  },
  "toc": {
   "base_numbering": 1,
   "nav_menu": {},
   "number_sections": true,
   "sideBar": true,
   "skip_h1_title": false,
   "title_cell": "Table of Contents",
   "title_sidebar": "Contents",
   "toc_cell": false,
   "toc_position": {},
   "toc_section_display": true,
   "toc_window_display": false
  }
 },
 "nbformat": 4,
 "nbformat_minor": 4
}
